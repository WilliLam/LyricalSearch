{
 "cells": [
  {
   "cell_type": "code",
   "execution_count": 83,
   "metadata": {},
   "outputs": [],
   "source": [
    "import sqlite3\n",
    "from collections import defaultdict\n",
    "con = sqlite3.connect('mxm_dataset.db')\n",
    "\n",
    "cur = con.cursor()\n",
    "\n",
    "\n",
    "with open(\"mxm_779k_matches.txt\", \"r\") as f:\n",
    "    idMatcherList = f.readlines()\n",
    "    \n",
    "while idMatcherList[0][0] == \"#\":\n",
    "    idMatcherList.pop(0)\n",
    "    \n",
    "idMatcher = dict()\n",
    "    \n",
    "for i in range(len(idMatcherList)):\n",
    "    songList = idMatcherList[i].split(\"<SEP>\")\n",
    "    idMatcher[songList[0]] = {\"artist\":songList[1], \"songName\":songList[2]}\n",
    "\n",
    "def findSong(id):\n",
    "    return idMatcher[id]"
   ]
  },
  {
   "cell_type": "code",
   "execution_count": 85,
   "metadata": {},
   "outputs": [
    {
     "name": "stdout",
     "output_type": "stream",
     "text": [
      "[('words',), ('lyrics',)]\n",
      "[(0, 'track_id', '', 0, None, 0), (1, 'mxm_tid', 'INT', 0, None, 0), (2, 'word', 'TEXT', 0, None, 0), (3, 'count', 'INT', 0, None, 0), (4, 'is_test', 'INT', 0, None, 0)]\n",
      "19045332\n",
      "73423\n"
     ]
    },
    {
     "data": {
      "text/plain": [
       "['TRJVUJV128F4266767',\n",
       " {'artist': 'Jessica Simpson', 'songName': \"I Think I'm In Love With You\"},\n",
       " 39168.177982376095]"
      ]
     },
     "execution_count": 85,
     "metadata": {},
     "output_type": "execute_result"
    }
   ],
   "source": [
    "\n",
    "print(cur.execute(\"SELECT name FROM sqlite_master WHERE type='table';\").fetchall())\n",
    "# print(cur.fetchall())\n",
    "\n",
    "print(cur.execute('PRAGMA table_info(lyrics);').fetchall())\n",
    "\n",
    "# for row in cur.execute('SELECT * FROM lyrics limit 1000'):\n",
    "#         print(row)\n",
    "def tfidfQuery(sentence):\n",
    "    songImportances = defaultdict(int)\n",
    "    words = sentence.split(\" \")\n",
    "    for word in words:\n",
    "        songImportance = tfidf(word)\n",
    "        for key in songImportance:\n",
    "#             print(\"wow\", key)\n",
    "#             print(songImportance[key])\n",
    "            songImportances[key] += songImportance[key]\n",
    "#     print(songImportances)\n",
    "    bestMatch = max(songImportances.items(), key=lambda x:x[1])\n",
    "    return [bestMatch[0], findSong(bestMatch[0]), songImportance[bestMatch[0]]]\n",
    "        \n",
    "def tfidf(word):\n",
    "    songImportance = defaultdict(int)\n",
    "    results = cur.execute(\"SELECT track_id, count from lyrics where word='\" + word + \"';\").fetchall()\n",
    "    sumRes = cur.execute(\"SELECT count(count) from lyrics where word='\" + word + \"';\").fetchall()[0][0]\n",
    "    nDocs = cur.execute(\"SELECT count(count) from lyrics\").fetchall()[0][0]\n",
    "    print(nDocs)\n",
    "    print(sumRes)\n",
    "    for song in results:\n",
    "        songImportance[song[0]] += song[1]*nDocs/sumRes\n",
    "        \n",
    "    bestMatch = max(songImportance, key=lambda x:x[1]), \n",
    "    return songImportance\n",
    "# [bestMatch[0], songImportance[bestMatch[0]]]\n",
    "\n",
    "\n",
    "\n",
    "(tfidfQuery(\"love\"))\n",
    "    \n",
    "\n",
    "    \n"
   ]
  },
  {
   "cell_type": "code",
   "execution_count": null,
   "metadata": {},
   "outputs": [],
   "source": []
  }
 ],
 "metadata": {
  "kernelspec": {
   "display_name": "Python 3",
   "language": "python",
   "name": "python3"
  },
  "language_info": {
   "codemirror_mode": {
    "name": "ipython",
    "version": 3
   },
   "file_extension": ".py",
   "mimetype": "text/x-python",
   "name": "python",
   "nbconvert_exporter": "python",
   "pygments_lexer": "ipython3",
   "version": "3.8.10"
  }
 },
 "nbformat": 4,
 "nbformat_minor": 4
}
