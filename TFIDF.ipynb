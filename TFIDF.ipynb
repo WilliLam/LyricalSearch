{
 "cells": [
  {
   "cell_type": "code",
   "execution_count": 62,
   "metadata": {},
   "outputs": [
    {
     "name": "stdout",
     "output_type": "stream",
     "text": [
      "[('words',), ('lyrics',)]\n",
      "[(0, 'track_id', '', 0, None, 0), (1, 'mxm_tid', 'INT', 0, None, 0), (2, 'word', 'TEXT', 0, None, 0), (3, 'count', 'INT', 0, None, 0), (4, 'is_test', 'INT', 0, None, 0)]\n",
      "19045332\n",
      "73423\n"
     ]
    },
    {
     "data": {
      "text/plain": [
       "['TRJVUJV128F4266767', 39168.177982376095]"
      ]
     },
     "execution_count": 62,
     "metadata": {},
     "output_type": "execute_result"
    }
   ],
   "source": [
    "import sqlite3\n",
    "from collections import defaultdict\n",
    "con = sqlite3.connect('mxm_dataset.db')\n",
    "\n",
    "cur = con.cursor()\n",
    "\n",
    "\n",
    "with open(\"mxm_779k_matches.txt\", \"r\") as f:\n",
    "    idMatcherList = f.readlines()\n",
    "    \n",
    "while idMatcherList[0][0] == \"#\":\n",
    "    idMatcherList.pop(0)\n",
    "    \n",
    "idMatcher = dict()\n",
    "    \n",
    "for i in range(len(idMatcherList)):\n",
    "    songList = idMatcherList[i].split(\"<SEP>\")\n",
    "    idMatcher[songList[0]] = {\"artist\":songList[1], \"songName\":songList[2]}\n",
    "\n",
    "def findSong(id):\n",
    "    return idMatcher[id]"
   ]
  },
  {
   "cell_type": "code",
   "execution_count": 82,
   "metadata": {},
   "outputs": [
    {
     "name": "stdout",
     "output_type": "stream",
     "text": [
      "[('TRMMMKD128F425225D', {'artist': 'Karkkiautomaatti', 'songName': 'Tanssi vaan'}), ('TRMMMRX128F93187D9', {'artist': 'Hudson Mohawke', 'songName': 'No One Could Ever'}), ('TRMMMCH128F425532C', {'artist': 'Yerba Brava', 'songName': 'Si Vos Querés'}), ('TRMMMXN128F42936A5', {'artist': 'David Montgomery', 'songName': 'Symphony No. 1 G minor \"Sinfonie Serieuse\"/Allegro con energia'}), ('TRMMMBB12903CB7D21', {'artist': 'Kris Kross', 'songName': \"2 Da Beat Ch'yall\"}), ('TRMMMHY12903CB53F1', {'artist': 'Joseph Locke', 'songName': 'Goodbye'}), ('TRMMMNS128F93548E1', {'artist': \"3 Gars Su'l Sofa\", 'songName': \"L'antarctique\"}), ('TRMMMXJ12903CBF111', {'artist': 'Jorge Negrete', 'songName': 'El hijo del pueblo'}), ('TRMMMBW128F4260CAE', {'artist': 'Tiger Lou', 'songName': 'Pilots'}), ('TRMMMXI128F4285A3F', {'artist': 'Waldemar Bastos', 'songName': 'N Gana'}), ('TRMMMKI128F931D80D', {'artist': 'Lena Philipsson', 'songName': '006'}), ('TRMMMUT128F42646E8', {'artist': 'Shawn Colvin', 'songName': '(Looking For) The Heart Of Saturday'}), ('TRMMMQY128F92F0EA3', {'artist': 'Dying Fetus', 'songName': 'Ethos of Coercion'}), ('TRMMMTK128F424EF7C', {'artist': 'Emery', 'songName': 'Rock-N-Rule'}), ('TRMMMQV12903CA201E', {'artist': 'Rev. Timothy Wright', 'songName': 'I Made It Over'}), ('TRMMMPN128F426610E', {'artist': 'Nicolette', 'songName': 'Nervous'}), ('TRMMMNO128F93539AA', {'artist': 'Martin Sexton', 'songName': 'In The Journey'}), ('TRMMMTG128F426B5BB', {'artist': 'Craze', 'songName': 'Fuckin Ethic People (999)'}), ('TRMMMPJ128F9306985', {'artist': 'Christian Castro', 'songName': 'Tu Vida Con La Mía'}), ('TRMMMRZ128F4265EB4', {'artist': 'Aerosmith', 'songName': \"I'm Ready\"}), ('TRMMMKD12903CF219E', {'artist': 'Skinlab', 'songName': 'Take As Needed'}), ('TRMMMJW12903CF239E', {'artist': 'Piotta', 'songName': 'Tequila'}), ('TRMMMWA128F1462C8C', {'artist': 'Sev Statik', 'songName': 'All For A Purpose (Speak Life Album Version)'}), ('TRMMMQN128F4238509', {'artist': 'Prince & The Revolution', 'songName': 'Raspberry Beret (LP Version)'}), ('TRMMMKQ128F92EBCB5', {'artist': 'Kreator', 'songName': 'All of the same blood'}), ('TRMMMQK128F428AB1F', {'artist': 'Hall Of Fame', 'songName': 'One Little Too Little'}), ('TRMMMPU128F42B134D', {'artist': 'Frank Chacksfield', 'songName': 'Cockleshell Heroes'}), ('TRMMMYP128F429A5E4', {'artist': 'Voyage', 'songName': 'Trancesequence'}), ('TRMMMKN12903CB44A5', {'artist': 'Wishbone Ash', 'songName': 'Wonderful Stash'}), ('TRMMMUZ128F4238E64', {'artist': 'Malavoi', 'songName': 'La filo'}), ('TRMMMTP128F4276193', {'artist': 'Cobra Verde', 'songName': 'Throw It Away'}), ('TRMMMSA128F425FA38', {'artist': 'Lisa Brokop', 'songName': 'Before He Kissed Me'}), ('TRMMMHS128F42A0971', {'artist': 'The Emotions', 'songName': 'Blessed'}), ('TRMMMDJ128F92CC9F6', {'artist': 'Hawthorne Heights', 'songName': 'Disaster [Demo Version]'}), ('TRMMMBU128F9305AC3', {'artist': 'The Maytals', 'songName': 'Night And Day'}), ('TRMMMFJ128F92E15AC', {'artist': 'Neffa', 'songName': 'Passione'}), ('TRMMMNI12903CE0AF1', {'artist': 'Lil\\x19 O', 'songName': 'My Everything [Screwed] (feat. Trae The Truth)'}), ('TRMMMFG128F425087B', {'artist': 'Billy Idol', 'songName': 'Scream'}), ('TRMMMLV128F14821BE', {'artist': 'Out Of The Grey', 'songName': 'He Is Not Silent (Out Of The Grey Album Version)'}), ('TRMMMLF128F4228771', {'artist': 'Leo Marini', 'songName': 'Acércate Más'}), ('TRMMMXD128F932AD86', {'artist': 'Sheb Wooley', 'songName': 'Mule Boogie'}), ('TRMMMQA128F14A454A', {'artist': 'Diana Krall', 'songName': 'Dancing In The Dark'}), ('TRMMMGL128F92FD6AB', {'artist': 'Clifford T. Ward', 'songName': 'Mad About You'}), ('TRMMWMW12903CC6062', {'artist': 'Joe Diffie', 'songName': \"Ships That Don't Come In\"}), ('TRMMWDA128F9343B5B', {'artist': 'Blackfoot', 'songName': 'Saturday Night  (LP Version)'}), ('TRMMWDL128F9300D5D', {'artist': 'Stemm', 'songName': 'On the Surface'}), ('TRMMWJS12903CBB7F5', {'artist': 'Aerosmith', 'songName': 'Remember (Walking In The Sand)'}), ('TRMMWOM12903CB21B8', {'artist': 'Hot Lips Page', 'songName': 'Just Another Woman'}), ('TRMMWYF128F42557B7', {'artist': 'David Fridlund', 'songName': 'untitled'}), ('TRMMWZE12903D0EB43', {'artist': 'Kultiration', 'songName': 'Bakslag'}), ('TRMMWVS12903CDD6FB', {'artist': 'Ewigkeit', 'songName': 'The New Way'}), ('TRMMWCK128F92D4800', {'artist': 'Alpha 5.20', 'songName': 'Cités dortoires (feat. 59 Grammes)'}), ('TRMMWLD128F9301BF2', {'artist': 'Tonex', 'songName': 'Bring It'}), ('TRMMWBU128F930B7CF', {'artist': 'Finis Tasby', 'songName': 'Sitting In My Window (Finis Tasby BMI)'}), ('TRMMWNY12903CF28D2', {'artist': 'Warren Zevon', 'songName': 'The Rest of the Night'}), ('TRMMWMT128F9345B1B', {'artist': 'Andrea Klas', 'songName': 'Ride'}), ('TRMMWNB12903C9A959', {'artist': 'The Soup Dragons', 'songName': 'Passion Protein'}), ('TRMMWQF12903CC0CAC', {'artist': 'Write This Down', 'songName': 'Redemption'}), ('TRMMWVB128F9312434', {'artist': 'Radio Macandé', 'songName': 'Dame Tus  Besos'}), ('TRMMWNW128F931511B', {'artist': 'Brigitte Fontaine', 'songName': 'Le mauvais coton'}), ('TRMMWFG128F92DFAA2', {'artist': 'Hex', 'songName': 'Subtek'}), ('TRMMWPD128F4247095', {'artist': 'X-Perience', 'songName': 'Dream Of Love'}), ('TRMMWQU12903CF447F', {'artist': 'Diablo Swing Orchestra', 'songName': 'Lucy Fears the Morning Star'}), ('TRMMWTW128F42783DD', {'artist': 'John Williams', 'songName': 'Fool on the Hill'}), ('TRMMWXK12903CDED07', {'artist': 'Fucked Up', 'songName': 'Baiting the Public'}), ('TRMMWHJ128F42869B2', {'artist': 'The Surfaris', 'songName': 'Wipeout'}), ('TRMMWAO128F93182D2', {'artist': 'Kool Savas', 'songName': 'Fick uns'}), ('TRMMWVG12903CBF769', {'artist': 'Prinz Porno', 'songName': 'Wir Sind Die Jungs feat. Din & Smexer'}), ('TRMMWBR128F930E399', {'artist': 'Lord T & Eloise', 'songName': 'Make Dat Monet'}), ('TRMMWWE12903D067F2', {'artist': 'Kingdom Come', 'songName': 'Two Legged Sheep'}), ('TRMMWAO128F42A53EB', {'artist': 'Gemelli Diversi', 'songName': 'Chi Sei Adesso'}), ('TRMMWCX128F92EF4C8', {'artist': 'Alice In Videoland', 'songName': 'Stuck On My Vision'}), ('TRMMWSE128F93041C5', {'artist': 'Kristian Meurman', 'songName': 'Joku muu'}), ('TRMMWJP12903CD8807', {'artist': 'Felt', 'songName': 'Whaleface (Instrumental)'}), ('TRMMWJD12903CC0F05', {'artist': 'Gangster Fun', 'songName': 'Brown Paper Bag'}), ('TRMMWTG128F4283F07', {'artist': 'Roger Whittaker', 'songName': 'You Needed Me'}), ('TRMMWXW128F422976E', {'artist': 'A.Human', 'songName': 'Pacey Singer'}), ('TRMMWMR12903CF8643', {'artist': 'Tiësto', 'songName': 'Ride'}), ('TRMMWRF128F1462252', {'artist': 'Ice Cube Featuring Chuck D', 'songName': 'Endangered Species (Tales From The Darkside) (Remix) (Explicit) (Feat. Chuck D)'}), ('TRMMWJM128F4227255', {'artist': 'Archie Roach', 'songName': 'Summer Of My Life'}), ('TRMMWEZ128F1455EAC', {'artist': 'Lester Flatt / Earl Scruggs / The Foggy Mountain Boys', 'songName': 'Foggy Mountain Breakdown'}), ('TRMMWJY128F1469B8A', {'artist': 'Luis Eduardo Aute', 'songName': 'What Matters Is Just You'}), ('TRMMWAH128F92F9D00', {'artist': 'Lonesome River Band', 'songName': 'Southern Comfort'}), ('TRMMWYJ128EF358EA7', {'artist': 'Retard-O-Bot', 'songName': 'Something From Nothing'}), ('TRMMWWX128F92DAF12', {'artist': 'Michael Whalen', 'songName': 'Half Light'}), ('TRMMWPX128F14965B8', {'artist': 'Mark Wills', 'songName': 'High Low And In Between'}), ('TRMMWSG128F92DD9AB', {'artist': 'Roberto Carlos', 'songName': 'Detalles'}), ('TRMMGDQ128F4277AE7', {'artist': 'Fine China', 'songName': \"Rock Can't Last Forever  (You Hate Me Hate Music Album Version)\"}), ('TRMMGCB128E079651D', {'artist': 'Morcheeba', 'songName': 'Get Along (Feat: Pace Won) (Instrumental)'}), ('TRMMGQO12903CD4F19', {'artist': 'Richard \"Groove\" Holmes', 'songName': 'Caravan'}), ('TRMMGPD128F42AA230', {'artist': 'Lamb', 'songName': 'Just Is'}), ('TRMMGIL128F92DBA59', {'artist': 'DJ Markitos', 'songName': 'Inside Your Dreams'}), ('TRMMGTX128F92FB4D9', {'artist': 'Bacilos', 'songName': 'Viejo'}), ('TRMMGBF128F931B836', {'artist': 'Toyah', 'songName': 'Victims of the Riddle [Vivisection]'}), ('TRMMGBQ12903CDF86A', {'artist': 'The Wolfmen', 'songName': 'Kama Sutra'}), ('TRMMGYY128F4289515', {'artist': 'Fausto Leali', 'songName': 'E non lo scorderò'}), ('TRMMGHM128F4270EA7', {'artist': 'Link 80', 'songName': 'What Can I Do?'}), ('TRMMGMC12903CF7FF0', {'artist': 'Spyro Gyra', 'songName': 'Pacific Sunrise'}), ('TRMMGDG12903CDB0E8', {'artist': 'White Willow', 'songName': 'Gnostalgia'}), ('TRMMGPB128F428B04A', {'artist': 'Robbie Williams', 'songName': 'Sin Sin Sin (Sentience Loney Mix)'})]\n"
     ]
    }
   ],
   "source": [
    "\n",
    "print(cur.execute(\"SELECT name FROM sqlite_master WHERE type='table';\").fetchall())\n",
    "# print(cur.fetchall())\n",
    "\n",
    "print(cur.execute('PRAGMA table_info(lyrics);').fetchall())\n",
    "\n",
    "# for row in cur.execute('SELECT * FROM lyrics limit 1000'):\n",
    "#         print(row)\n",
    "def tfidfQuery(sentence):\n",
    "    songImportances = defaultdict(int)\n",
    "    words = sentence.split(\" \")\n",
    "    for word in words:\n",
    "        songImportance = tfidf(word)\n",
    "        for key in songImportance:\n",
    "#             print(\"wow\", key)\n",
    "#             print(songImportance[key])\n",
    "            songImportances[key] += songImportance[key]\n",
    "#     print(songImportances)\n",
    "    bestMatch = max(songImportances.items(), key=lambda x:x[1])\n",
    "    return [bestMatch[0], findSong(bestMatch[0songImportance[bestMatch[0]]]\n",
    "        \n",
    "def tfidf(word):\n",
    "    songImportance = defaultdict(int)\n",
    "    results = cur.execute(\"SELECT track_id, count from lyrics where word='\" + word + \"';\").fetchall()\n",
    "    sumRes = cur.execute(\"SELECT count(count) from lyrics where word='\" + word + \"';\").fetchall()[0][0]\n",
    "    nDocs = cur.execute(\"SELECT count(count) from lyrics\").fetchall()[0][0]\n",
    "    print(nDocs)\n",
    "    print(sumRes)\n",
    "    for song in results:\n",
    "        songImportance[song[0]] += song[1]*nDocs/sumRes\n",
    "        \n",
    "    bestMatch = max(songImportance, key=lambda x:x[1]), \n",
    "    return songImportance\n",
    "# [bestMatch[0], songImportance[bestMatch[0]]]\n",
    "\n",
    "\n",
    "\n",
    "(tfidfQuery(\"love\"))\n",
    "    \n",
    "\n",
    "    \n"
   ]
  }
 ],
 "metadata": {
  "kernelspec": {
   "display_name": "Python 3",
   "language": "python",
   "name": "python3"
  },
  "language_info": {
   "codemirror_mode": {
    "name": "ipython",
    "version": 3
   },
   "file_extension": ".py",
   "mimetype": "text/x-python",
   "name": "python",
   "nbconvert_exporter": "python",
   "pygments_lexer": "ipython3",
   "version": "3.8.10"
  }
 },
 "nbformat": 4,
 "nbformat_minor": 4
}
